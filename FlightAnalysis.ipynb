{
 "cells": [
  {
   "cell_type": "markdown",
   "id": "b7b86ad4",
   "metadata": {},
   "source": [
    "# EDA on International Airlines to and from Australia"
   ]
  },
  {
   "cell_type": "markdown",
   "id": "9790f471",
   "metadata": {},
   "source": [
    "## Source of data:\n",
    "\\\n",
    "For the below EDA, data is gathered from:\\\n",
    "https://data.gov.au/dataset/ds-dga-e82787e4-a480-4189-b963-1d0b6088103e/details \\\n",
    "Details of the data are referred from:\\\n",
    "https://data.gov.au/data/dataset/e82787e4-a480-4189-b963-1d0b6088103e/resource/1804bf27-7ed4-4b72-84d9-314c6a7ebd2b/download/notes.txt \\\n",
    "Dataset: International Airlines- Operated Flights and Seats\\\n",
    "Created by: Bureau of Infrastructure and Transport Research Economics (BITRE)\\\n",
    "Created on: 05/06/2016\\\n",
    "Updated on: 02/21/2022"
   ]
  },
  {
   "cell_type": "markdown",
   "id": "4ebe5348",
   "metadata": {},
   "source": [
    "## Loading Data:"
   ]
  },
  {
   "cell_type": "code",
   "execution_count": 1,
   "id": "28ded42c",
   "metadata": {},
   "outputs": [],
   "source": [
    "#importing pandas and loading data into a dataframe\n",
    "import pandas as pd\n",
    "df = pd.read_csv('data.csv')"
   ]
  },
  {
   "cell_type": "code",
   "execution_count": 2,
   "id": "3a7558f9",
   "metadata": {},
   "outputs": [
    {
     "data": {
      "text/html": [
       "<div>\n",
       "<style scoped>\n",
       "    .dataframe tbody tr th:only-of-type {\n",
       "        vertical-align: middle;\n",
       "    }\n",
       "\n",
       "    .dataframe tbody tr th {\n",
       "        vertical-align: top;\n",
       "    }\n",
       "\n",
       "    .dataframe thead th {\n",
       "        text-align: right;\n",
       "    }\n",
       "</style>\n",
       "<table border=\"1\" class=\"dataframe\">\n",
       "  <thead>\n",
       "    <tr style=\"text-align: right;\">\n",
       "      <th></th>\n",
       "      <th>Month</th>\n",
       "      <th>In_Out</th>\n",
       "      <th>Australian_City</th>\n",
       "      <th>International_City</th>\n",
       "      <th>Airline</th>\n",
       "      <th>Route</th>\n",
       "      <th>Port_Country</th>\n",
       "      <th>Port_Region</th>\n",
       "      <th>Service_Country</th>\n",
       "      <th>Service_Region</th>\n",
       "      <th>Stops</th>\n",
       "      <th>All_Flights</th>\n",
       "      <th>Max_Seats</th>\n",
       "      <th>Year</th>\n",
       "      <th>Month_num</th>\n",
       "    </tr>\n",
       "  </thead>\n",
       "  <tbody>\n",
       "    <tr>\n",
       "      <th>0</th>\n",
       "      <td>Sep-03</td>\n",
       "      <td>I</td>\n",
       "      <td>Adelaide</td>\n",
       "      <td>Denpasar</td>\n",
       "      <td>Garuda Indonesia</td>\n",
       "      <td>DPS-ADL-MEL</td>\n",
       "      <td>Indonesia</td>\n",
       "      <td>SE Asia</td>\n",
       "      <td>Indonesia</td>\n",
       "      <td>SE Asia</td>\n",
       "      <td>0</td>\n",
       "      <td>13</td>\n",
       "      <td>3809</td>\n",
       "      <td>2003</td>\n",
       "      <td>9</td>\n",
       "    </tr>\n",
       "    <tr>\n",
       "      <th>1</th>\n",
       "      <td>Sep-03</td>\n",
       "      <td>I</td>\n",
       "      <td>Adelaide</td>\n",
       "      <td>Hong Kong</td>\n",
       "      <td>Cathay Pacific Airways</td>\n",
       "      <td>HKG-ADL-MEL</td>\n",
       "      <td>Hong Kong (SAR)</td>\n",
       "      <td>NE Asia</td>\n",
       "      <td>Hong Kong (SAR)</td>\n",
       "      <td>NE Asia</td>\n",
       "      <td>0</td>\n",
       "      <td>8</td>\n",
       "      <td>2008</td>\n",
       "      <td>2003</td>\n",
       "      <td>9</td>\n",
       "    </tr>\n",
       "    <tr>\n",
       "      <th>2</th>\n",
       "      <td>Sep-03</td>\n",
       "      <td>I</td>\n",
       "      <td>Adelaide</td>\n",
       "      <td>Kuala Lumpur</td>\n",
       "      <td>Malaysia Airlines</td>\n",
       "      <td>KUL-ADL</td>\n",
       "      <td>Malaysia</td>\n",
       "      <td>SE Asia</td>\n",
       "      <td>Malaysia</td>\n",
       "      <td>SE Asia</td>\n",
       "      <td>0</td>\n",
       "      <td>17</td>\n",
       "      <td>4726</td>\n",
       "      <td>2003</td>\n",
       "      <td>9</td>\n",
       "    </tr>\n",
       "    <tr>\n",
       "      <th>3</th>\n",
       "      <td>Sep-03</td>\n",
       "      <td>I</td>\n",
       "      <td>Adelaide</td>\n",
       "      <td>Singapore</td>\n",
       "      <td>Qantas Airways</td>\n",
       "      <td>SIN-DRW-ADL-MEL</td>\n",
       "      <td>Singapore</td>\n",
       "      <td>SE Asia</td>\n",
       "      <td>Singapore</td>\n",
       "      <td>SE Asia</td>\n",
       "      <td>1</td>\n",
       "      <td>4</td>\n",
       "      <td>908</td>\n",
       "      <td>2003</td>\n",
       "      <td>9</td>\n",
       "    </tr>\n",
       "    <tr>\n",
       "      <th>4</th>\n",
       "      <td>Sep-03</td>\n",
       "      <td>I</td>\n",
       "      <td>Adelaide</td>\n",
       "      <td>Singapore</td>\n",
       "      <td>Qantas Airways</td>\n",
       "      <td>SIN-DRW-ADL-SYD</td>\n",
       "      <td>Singapore</td>\n",
       "      <td>SE Asia</td>\n",
       "      <td>Singapore</td>\n",
       "      <td>SE Asia</td>\n",
       "      <td>1</td>\n",
       "      <td>9</td>\n",
       "      <td>2038</td>\n",
       "      <td>2003</td>\n",
       "      <td>9</td>\n",
       "    </tr>\n",
       "  </tbody>\n",
       "</table>\n",
       "</div>"
      ],
      "text/plain": [
       "    Month In_Out Australian_City International_City                 Airline  \\\n",
       "0  Sep-03      I        Adelaide           Denpasar        Garuda Indonesia   \n",
       "1  Sep-03      I        Adelaide          Hong Kong  Cathay Pacific Airways   \n",
       "2  Sep-03      I        Adelaide       Kuala Lumpur       Malaysia Airlines   \n",
       "3  Sep-03      I        Adelaide          Singapore          Qantas Airways   \n",
       "4  Sep-03      I        Adelaide          Singapore          Qantas Airways   \n",
       "\n",
       "             Route     Port_Country Port_Region  Service_Country  \\\n",
       "0      DPS-ADL-MEL        Indonesia     SE Asia        Indonesia   \n",
       "1      HKG-ADL-MEL  Hong Kong (SAR)     NE Asia  Hong Kong (SAR)   \n",
       "2          KUL-ADL         Malaysia     SE Asia         Malaysia   \n",
       "3  SIN-DRW-ADL-MEL        Singapore     SE Asia        Singapore   \n",
       "4  SIN-DRW-ADL-SYD        Singapore     SE Asia        Singapore   \n",
       "\n",
       "  Service_Region  Stops  All_Flights  Max_Seats  Year  Month_num  \n",
       "0        SE Asia      0           13       3809  2003          9  \n",
       "1        NE Asia      0            8       2008  2003          9  \n",
       "2        SE Asia      0           17       4726  2003          9  \n",
       "3        SE Asia      1            4        908  2003          9  \n",
       "4        SE Asia      1            9       2038  2003          9  "
      ]
     },
     "execution_count": 2,
     "metadata": {},
     "output_type": "execute_result"
    }
   ],
   "source": [
    "#first 5 lines of the dataframe\n",
    "df.head()"
   ]
  },
  {
   "cell_type": "code",
   "execution_count": 3,
   "id": "82520fd1",
   "metadata": {},
   "outputs": [
    {
     "data": {
      "text/plain": [
       "(107238, 15)"
      ]
     },
     "execution_count": 3,
     "metadata": {},
     "output_type": "execute_result"
    }
   ],
   "source": [
    "#Count of rows and columns in the dataframe\n",
    "df.shape"
   ]
  },
  {
   "cell_type": "code",
   "execution_count": 4,
   "id": "a55a07d4",
   "metadata": {},
   "outputs": [
    {
     "name": "stdout",
     "output_type": "stream",
     "text": [
      "<class 'pandas.core.frame.DataFrame'>\n",
      "RangeIndex: 107238 entries, 0 to 107237\n",
      "Data columns (total 15 columns):\n",
      " #   Column              Non-Null Count   Dtype \n",
      "---  ------              --------------   ----- \n",
      " 0   Month               107238 non-null  object\n",
      " 1   In_Out              107238 non-null  object\n",
      " 2   Australian_City     107238 non-null  object\n",
      " 3   International_City  107238 non-null  object\n",
      " 4   Airline             107238 non-null  object\n",
      " 5   Route               107238 non-null  object\n",
      " 6   Port_Country        107238 non-null  object\n",
      " 7   Port_Region         107238 non-null  object\n",
      " 8   Service_Country     107238 non-null  object\n",
      " 9   Service_Region      107238 non-null  object\n",
      " 10  Stops               107238 non-null  int64 \n",
      " 11  All_Flights         107238 non-null  int64 \n",
      " 12  Max_Seats           107238 non-null  int64 \n",
      " 13  Year                107238 non-null  int64 \n",
      " 14  Month_num           107238 non-null  int64 \n",
      "dtypes: int64(5), object(10)\n",
      "memory usage: 12.3+ MB\n"
     ]
    }
   ],
   "source": [
    "#Checking datatypes of the columns, memory usage and any NaN values in the dataframe\n",
    "df.info()"
   ]
  },
  {
   "cell_type": "markdown",
   "id": "4cbec183",
   "metadata": {},
   "source": [
    "## Cleaning Data:"
   ]
  },
  {
   "cell_type": "markdown",
   "id": "ea0b005e",
   "metadata": {},
   "source": [
    "Data inconsistency:\\\n",
    "The origninal data contains **107238 rows** and **15 columns**\\\n",
    "Since we have data from September, 2003 we will use the 2021 year's data, hence shortening the height of the dataframe\\\n",
    "We are deleting a column named **'Route'** as we are not interested in the route details of the flight in our EDA.\\\n",
    "These operations will bring down the memory usage of dataframe by almost three times from **12.3MB to 222KB**.\n"
   ]
  },
  {
   "cell_type": "code",
   "execution_count": 5,
   "id": "13b19663",
   "metadata": {},
   "outputs": [],
   "source": [
    "#Creating a new df, 'df_1' for the transformed data\n",
    "#Dropping unused columns in the EDA\n",
    "df_1 = df.drop(['Route'], axis=1)"
   ]
  },
  {
   "cell_type": "code",
   "execution_count": 6,
   "id": "49b0c9ff",
   "metadata": {},
   "outputs": [
    {
     "data": {
      "text/plain": [
       "(107238, 14)"
      ]
     },
     "execution_count": 6,
     "metadata": {},
     "output_type": "execute_result"
    }
   ],
   "source": [
    "#Count of rows and columns in df_1\n",
    "df_1.shape"
   ]
  },
  {
   "cell_type": "code",
   "execution_count": 7,
   "id": "4f60f0ae",
   "metadata": {},
   "outputs": [
    {
     "data": {
      "text/plain": [
       "array([2003, 2004, 2005, 2006, 2007, 2008, 2009, 2010, 2011, 2012, 2013,\n",
       "       2014, 2015, 2016, 2017, 2018, 2019, 2020, 2021])"
      ]
     },
     "execution_count": 7,
     "metadata": {},
     "output_type": "execute_result"
    }
   ],
   "source": [
    "#identifying unique years\n",
    "unique_years = df_1.Year.unique()\n",
    "unique_years"
   ]
  },
  {
   "cell_type": "code",
   "execution_count": 8,
   "id": "54e1f70c",
   "metadata": {},
   "outputs": [
    {
     "data": {
      "text/plain": [
       "(1895, 14)"
      ]
     },
     "execution_count": 8,
     "metadata": {},
     "output_type": "execute_result"
    }
   ],
   "source": [
    "#considering data for the years >= 2015\n",
    "filteredyears = df_1['Year'] == 2021\n",
    "df_1 = df_1[filteredyears]\n",
    "df_1.shape"
   ]
  },
  {
   "cell_type": "code",
   "execution_count": 9,
   "id": "a5856315",
   "metadata": {},
   "outputs": [
    {
     "name": "stdout",
     "output_type": "stream",
     "text": [
      "<class 'pandas.core.frame.DataFrame'>\n",
      "Int64Index: 1895 entries, 105343 to 107237\n",
      "Data columns (total 14 columns):\n",
      " #   Column              Non-Null Count  Dtype \n",
      "---  ------              --------------  ----- \n",
      " 0   Month               1895 non-null   object\n",
      " 1   In_Out              1895 non-null   object\n",
      " 2   Australian_City     1895 non-null   object\n",
      " 3   International_City  1895 non-null   object\n",
      " 4   Airline             1895 non-null   object\n",
      " 5   Port_Country        1895 non-null   object\n",
      " 6   Port_Region         1895 non-null   object\n",
      " 7   Service_Country     1895 non-null   object\n",
      " 8   Service_Region      1895 non-null   object\n",
      " 9   Stops               1895 non-null   int64 \n",
      " 10  All_Flights         1895 non-null   int64 \n",
      " 11  Max_Seats           1895 non-null   int64 \n",
      " 12  Year                1895 non-null   int64 \n",
      " 13  Month_num           1895 non-null   int64 \n",
      "dtypes: int64(5), object(9)\n",
      "memory usage: 222.1+ KB\n"
     ]
    }
   ],
   "source": [
    "#Checking memory usage of the dataframe\n",
    "df_1.info()"
   ]
  },
  {
   "cell_type": "code",
   "execution_count": 10,
   "id": "215d024c",
   "metadata": {
    "scrolled": true
   },
   "outputs": [
    {
     "data": {
      "text/html": [
       "<div>\n",
       "<style scoped>\n",
       "    .dataframe tbody tr th:only-of-type {\n",
       "        vertical-align: middle;\n",
       "    }\n",
       "\n",
       "    .dataframe tbody tr th {\n",
       "        vertical-align: top;\n",
       "    }\n",
       "\n",
       "    .dataframe thead th {\n",
       "        text-align: right;\n",
       "    }\n",
       "</style>\n",
       "<table border=\"1\" class=\"dataframe\">\n",
       "  <thead>\n",
       "    <tr style=\"text-align: right;\">\n",
       "      <th></th>\n",
       "      <th>Month</th>\n",
       "      <th>In_Out</th>\n",
       "      <th>Australian_City</th>\n",
       "      <th>International_City</th>\n",
       "      <th>Airline</th>\n",
       "      <th>Port_Country</th>\n",
       "      <th>Port_Region</th>\n",
       "      <th>Service_Country</th>\n",
       "      <th>Service_Region</th>\n",
       "      <th>Stops</th>\n",
       "      <th>All_Flights</th>\n",
       "      <th>Max_Seats</th>\n",
       "      <th>Year</th>\n",
       "      <th>Month_num</th>\n",
       "    </tr>\n",
       "  </thead>\n",
       "  <tbody>\n",
       "    <tr>\n",
       "      <th>105343</th>\n",
       "      <td>Jan-21</td>\n",
       "      <td>I</td>\n",
       "      <td>Adelaide</td>\n",
       "      <td>Doha</td>\n",
       "      <td>Qatar Airways</td>\n",
       "      <td>Qatar</td>\n",
       "      <td>Middle East</td>\n",
       "      <td>Qatar</td>\n",
       "      <td>Middle East</td>\n",
       "      <td>0</td>\n",
       "      <td>15</td>\n",
       "      <td>4245</td>\n",
       "      <td>2021</td>\n",
       "      <td>1</td>\n",
       "    </tr>\n",
       "    <tr>\n",
       "      <th>105344</th>\n",
       "      <td>Jan-21</td>\n",
       "      <td>I</td>\n",
       "      <td>Adelaide</td>\n",
       "      <td>Doha</td>\n",
       "      <td>Qatar Airways</td>\n",
       "      <td>Qatar</td>\n",
       "      <td>Middle East</td>\n",
       "      <td>Qatar</td>\n",
       "      <td>Middle East</td>\n",
       "      <td>1</td>\n",
       "      <td>1</td>\n",
       "      <td>283</td>\n",
       "      <td>2021</td>\n",
       "      <td>1</td>\n",
       "    </tr>\n",
       "    <tr>\n",
       "      <th>105345</th>\n",
       "      <td>Jan-21</td>\n",
       "      <td>I</td>\n",
       "      <td>Adelaide</td>\n",
       "      <td>Kuala Lumpur</td>\n",
       "      <td>Malaysia Airlines</td>\n",
       "      <td>Malaysia</td>\n",
       "      <td>SE Asia</td>\n",
       "      <td>Malaysia</td>\n",
       "      <td>SE Asia</td>\n",
       "      <td>0</td>\n",
       "      <td>2</td>\n",
       "      <td>580</td>\n",
       "      <td>2021</td>\n",
       "      <td>1</td>\n",
       "    </tr>\n",
       "    <tr>\n",
       "      <th>105346</th>\n",
       "      <td>Jan-21</td>\n",
       "      <td>I</td>\n",
       "      <td>Adelaide</td>\n",
       "      <td>Los Angeles</td>\n",
       "      <td>Qatar Airways</td>\n",
       "      <td>USA</td>\n",
       "      <td>N America</td>\n",
       "      <td>Qatar</td>\n",
       "      <td>Middle East</td>\n",
       "      <td>0</td>\n",
       "      <td>1</td>\n",
       "      <td>283</td>\n",
       "      <td>2021</td>\n",
       "      <td>1</td>\n",
       "    </tr>\n",
       "    <tr>\n",
       "      <th>105347</th>\n",
       "      <td>Jan-21</td>\n",
       "      <td>I</td>\n",
       "      <td>Adelaide</td>\n",
       "      <td>Singapore</td>\n",
       "      <td>Singapore Airlines</td>\n",
       "      <td>Singapore</td>\n",
       "      <td>SE Asia</td>\n",
       "      <td>Singapore</td>\n",
       "      <td>SE Asia</td>\n",
       "      <td>0</td>\n",
       "      <td>13</td>\n",
       "      <td>3939</td>\n",
       "      <td>2021</td>\n",
       "      <td>1</td>\n",
       "    </tr>\n",
       "  </tbody>\n",
       "</table>\n",
       "</div>"
      ],
      "text/plain": [
       "         Month In_Out Australian_City International_City             Airline  \\\n",
       "105343  Jan-21      I        Adelaide               Doha       Qatar Airways   \n",
       "105344  Jan-21      I        Adelaide               Doha       Qatar Airways   \n",
       "105345  Jan-21      I        Adelaide       Kuala Lumpur   Malaysia Airlines   \n",
       "105346  Jan-21      I        Adelaide        Los Angeles       Qatar Airways   \n",
       "105347  Jan-21      I        Adelaide          Singapore  Singapore Airlines   \n",
       "\n",
       "       Port_Country  Port_Region Service_Country Service_Region  Stops  \\\n",
       "105343        Qatar  Middle East           Qatar    Middle East      0   \n",
       "105344        Qatar  Middle East           Qatar    Middle East      1   \n",
       "105345     Malaysia      SE Asia        Malaysia        SE Asia      0   \n",
       "105346          USA    N America           Qatar    Middle East      0   \n",
       "105347    Singapore      SE Asia       Singapore        SE Asia      0   \n",
       "\n",
       "        All_Flights  Max_Seats  Year  Month_num  \n",
       "105343           15       4245  2021          1  \n",
       "105344            1        283  2021          1  \n",
       "105345            2        580  2021          1  \n",
       "105346            1        283  2021          1  \n",
       "105347           13       3939  2021          1  "
      ]
     },
     "execution_count": 10,
     "metadata": {},
     "output_type": "execute_result"
    }
   ],
   "source": [
    "#first 5 lines of the dataframe\n",
    "df_1.head()"
   ]
  },
  {
   "cell_type": "code",
   "execution_count": 11,
   "id": "4354951f",
   "metadata": {},
   "outputs": [],
   "source": [
    "#resetting index for df_1\n",
    "df_1=df_1.reset_index()"
   ]
  },
  {
   "cell_type": "code",
   "execution_count": 12,
   "id": "d44a6b9e",
   "metadata": {},
   "outputs": [
    {
     "data": {
      "text/html": [
       "<div>\n",
       "<style scoped>\n",
       "    .dataframe tbody tr th:only-of-type {\n",
       "        vertical-align: middle;\n",
       "    }\n",
       "\n",
       "    .dataframe tbody tr th {\n",
       "        vertical-align: top;\n",
       "    }\n",
       "\n",
       "    .dataframe thead th {\n",
       "        text-align: right;\n",
       "    }\n",
       "</style>\n",
       "<table border=\"1\" class=\"dataframe\">\n",
       "  <thead>\n",
       "    <tr style=\"text-align: right;\">\n",
       "      <th></th>\n",
       "      <th>index</th>\n",
       "      <th>Month</th>\n",
       "      <th>In_Out</th>\n",
       "      <th>Australian_City</th>\n",
       "      <th>International_City</th>\n",
       "      <th>Airline</th>\n",
       "      <th>Port_Country</th>\n",
       "      <th>Port_Region</th>\n",
       "      <th>Service_Country</th>\n",
       "      <th>Service_Region</th>\n",
       "      <th>Stops</th>\n",
       "      <th>All_Flights</th>\n",
       "      <th>Max_Seats</th>\n",
       "      <th>Year</th>\n",
       "      <th>Month_num</th>\n",
       "    </tr>\n",
       "  </thead>\n",
       "  <tbody>\n",
       "    <tr>\n",
       "      <th>count</th>\n",
       "      <td>1895.000000</td>\n",
       "      <td>1895</td>\n",
       "      <td>1895</td>\n",
       "      <td>1895</td>\n",
       "      <td>1895</td>\n",
       "      <td>1895</td>\n",
       "      <td>1895</td>\n",
       "      <td>1895</td>\n",
       "      <td>1895</td>\n",
       "      <td>1895</td>\n",
       "      <td>1895.000000</td>\n",
       "      <td>1895.000000</td>\n",
       "      <td>1895.000000</td>\n",
       "      <td>1895.0</td>\n",
       "      <td>1895.000000</td>\n",
       "    </tr>\n",
       "    <tr>\n",
       "      <th>unique</th>\n",
       "      <td>NaN</td>\n",
       "      <td>12</td>\n",
       "      <td>2</td>\n",
       "      <td>12</td>\n",
       "      <td>44</td>\n",
       "      <td>43</td>\n",
       "      <td>28</td>\n",
       "      <td>9</td>\n",
       "      <td>28</td>\n",
       "      <td>9</td>\n",
       "      <td>NaN</td>\n",
       "      <td>NaN</td>\n",
       "      <td>NaN</td>\n",
       "      <td>NaN</td>\n",
       "      <td>NaN</td>\n",
       "    </tr>\n",
       "    <tr>\n",
       "      <th>top</th>\n",
       "      <td>NaN</td>\n",
       "      <td>Dec-21</td>\n",
       "      <td>I</td>\n",
       "      <td>Sydney</td>\n",
       "      <td>Singapore</td>\n",
       "      <td>Air New Zealand</td>\n",
       "      <td>New Zealand</td>\n",
       "      <td>SE Asia</td>\n",
       "      <td>New Zealand</td>\n",
       "      <td>SE Asia</td>\n",
       "      <td>NaN</td>\n",
       "      <td>NaN</td>\n",
       "      <td>NaN</td>\n",
       "      <td>NaN</td>\n",
       "      <td>NaN</td>\n",
       "    </tr>\n",
       "    <tr>\n",
       "      <th>freq</th>\n",
       "      <td>NaN</td>\n",
       "      <td>201</td>\n",
       "      <td>960</td>\n",
       "      <td>833</td>\n",
       "      <td>200</td>\n",
       "      <td>189</td>\n",
       "      <td>336</td>\n",
       "      <td>507</td>\n",
       "      <td>333</td>\n",
       "      <td>507</td>\n",
       "      <td>NaN</td>\n",
       "      <td>NaN</td>\n",
       "      <td>NaN</td>\n",
       "      <td>NaN</td>\n",
       "      <td>NaN</td>\n",
       "    </tr>\n",
       "    <tr>\n",
       "      <th>mean</th>\n",
       "      <td>106290.000000</td>\n",
       "      <td>NaN</td>\n",
       "      <td>NaN</td>\n",
       "      <td>NaN</td>\n",
       "      <td>NaN</td>\n",
       "      <td>NaN</td>\n",
       "      <td>NaN</td>\n",
       "      <td>NaN</td>\n",
       "      <td>NaN</td>\n",
       "      <td>NaN</td>\n",
       "      <td>0.039050</td>\n",
       "      <td>13.648021</td>\n",
       "      <td>3863.859103</td>\n",
       "      <td>2021.0</td>\n",
       "      <td>6.551451</td>\n",
       "    </tr>\n",
       "    <tr>\n",
       "      <th>std</th>\n",
       "      <td>547.183699</td>\n",
       "      <td>NaN</td>\n",
       "      <td>NaN</td>\n",
       "      <td>NaN</td>\n",
       "      <td>NaN</td>\n",
       "      <td>NaN</td>\n",
       "      <td>NaN</td>\n",
       "      <td>NaN</td>\n",
       "      <td>NaN</td>\n",
       "      <td>NaN</td>\n",
       "      <td>0.193765</td>\n",
       "      <td>14.338277</td>\n",
       "      <td>4374.936821</td>\n",
       "      <td>0.0</td>\n",
       "      <td>3.427537</td>\n",
       "    </tr>\n",
       "    <tr>\n",
       "      <th>min</th>\n",
       "      <td>105343.000000</td>\n",
       "      <td>NaN</td>\n",
       "      <td>NaN</td>\n",
       "      <td>NaN</td>\n",
       "      <td>NaN</td>\n",
       "      <td>NaN</td>\n",
       "      <td>NaN</td>\n",
       "      <td>NaN</td>\n",
       "      <td>NaN</td>\n",
       "      <td>NaN</td>\n",
       "      <td>0.000000</td>\n",
       "      <td>1.000000</td>\n",
       "      <td>128.000000</td>\n",
       "      <td>2021.0</td>\n",
       "      <td>1.000000</td>\n",
       "    </tr>\n",
       "    <tr>\n",
       "      <th>25%</th>\n",
       "      <td>105816.500000</td>\n",
       "      <td>NaN</td>\n",
       "      <td>NaN</td>\n",
       "      <td>NaN</td>\n",
       "      <td>NaN</td>\n",
       "      <td>NaN</td>\n",
       "      <td>NaN</td>\n",
       "      <td>NaN</td>\n",
       "      <td>NaN</td>\n",
       "      <td>NaN</td>\n",
       "      <td>0.000000</td>\n",
       "      <td>4.000000</td>\n",
       "      <td>850.500000</td>\n",
       "      <td>2021.0</td>\n",
       "      <td>4.000000</td>\n",
       "    </tr>\n",
       "    <tr>\n",
       "      <th>50%</th>\n",
       "      <td>106290.000000</td>\n",
       "      <td>NaN</td>\n",
       "      <td>NaN</td>\n",
       "      <td>NaN</td>\n",
       "      <td>NaN</td>\n",
       "      <td>NaN</td>\n",
       "      <td>NaN</td>\n",
       "      <td>NaN</td>\n",
       "      <td>NaN</td>\n",
       "      <td>NaN</td>\n",
       "      <td>0.000000</td>\n",
       "      <td>9.000000</td>\n",
       "      <td>2320.000000</td>\n",
       "      <td>2021.0</td>\n",
       "      <td>6.000000</td>\n",
       "    </tr>\n",
       "    <tr>\n",
       "      <th>75%</th>\n",
       "      <td>106763.500000</td>\n",
       "      <td>NaN</td>\n",
       "      <td>NaN</td>\n",
       "      <td>NaN</td>\n",
       "      <td>NaN</td>\n",
       "      <td>NaN</td>\n",
       "      <td>NaN</td>\n",
       "      <td>NaN</td>\n",
       "      <td>NaN</td>\n",
       "      <td>NaN</td>\n",
       "      <td>0.000000</td>\n",
       "      <td>19.000000</td>\n",
       "      <td>5241.500000</td>\n",
       "      <td>2021.0</td>\n",
       "      <td>9.000000</td>\n",
       "    </tr>\n",
       "    <tr>\n",
       "      <th>max</th>\n",
       "      <td>107237.000000</td>\n",
       "      <td>NaN</td>\n",
       "      <td>NaN</td>\n",
       "      <td>NaN</td>\n",
       "      <td>NaN</td>\n",
       "      <td>NaN</td>\n",
       "      <td>NaN</td>\n",
       "      <td>NaN</td>\n",
       "      <td>NaN</td>\n",
       "      <td>NaN</td>\n",
       "      <td>1.000000</td>\n",
       "      <td>84.000000</td>\n",
       "      <td>29898.000000</td>\n",
       "      <td>2021.0</td>\n",
       "      <td>12.000000</td>\n",
       "    </tr>\n",
       "  </tbody>\n",
       "</table>\n",
       "</div>"
      ],
      "text/plain": [
       "                index   Month In_Out Australian_City International_City  \\\n",
       "count     1895.000000    1895   1895            1895               1895   \n",
       "unique            NaN      12      2              12                 44   \n",
       "top               NaN  Dec-21      I          Sydney          Singapore   \n",
       "freq              NaN     201    960             833                200   \n",
       "mean    106290.000000     NaN    NaN             NaN                NaN   \n",
       "std        547.183699     NaN    NaN             NaN                NaN   \n",
       "min     105343.000000     NaN    NaN             NaN                NaN   \n",
       "25%     105816.500000     NaN    NaN             NaN                NaN   \n",
       "50%     106290.000000     NaN    NaN             NaN                NaN   \n",
       "75%     106763.500000     NaN    NaN             NaN                NaN   \n",
       "max     107237.000000     NaN    NaN             NaN                NaN   \n",
       "\n",
       "                Airline Port_Country Port_Region Service_Country  \\\n",
       "count              1895         1895        1895            1895   \n",
       "unique               43           28           9              28   \n",
       "top     Air New Zealand  New Zealand     SE Asia     New Zealand   \n",
       "freq                189          336         507             333   \n",
       "mean                NaN          NaN         NaN             NaN   \n",
       "std                 NaN          NaN         NaN             NaN   \n",
       "min                 NaN          NaN         NaN             NaN   \n",
       "25%                 NaN          NaN         NaN             NaN   \n",
       "50%                 NaN          NaN         NaN             NaN   \n",
       "75%                 NaN          NaN         NaN             NaN   \n",
       "max                 NaN          NaN         NaN             NaN   \n",
       "\n",
       "       Service_Region        Stops  All_Flights     Max_Seats    Year  \\\n",
       "count            1895  1895.000000  1895.000000   1895.000000  1895.0   \n",
       "unique              9          NaN          NaN           NaN     NaN   \n",
       "top           SE Asia          NaN          NaN           NaN     NaN   \n",
       "freq              507          NaN          NaN           NaN     NaN   \n",
       "mean              NaN     0.039050    13.648021   3863.859103  2021.0   \n",
       "std               NaN     0.193765    14.338277   4374.936821     0.0   \n",
       "min               NaN     0.000000     1.000000    128.000000  2021.0   \n",
       "25%               NaN     0.000000     4.000000    850.500000  2021.0   \n",
       "50%               NaN     0.000000     9.000000   2320.000000  2021.0   \n",
       "75%               NaN     0.000000    19.000000   5241.500000  2021.0   \n",
       "max               NaN     1.000000    84.000000  29898.000000  2021.0   \n",
       "\n",
       "          Month_num  \n",
       "count   1895.000000  \n",
       "unique          NaN  \n",
       "top             NaN  \n",
       "freq            NaN  \n",
       "mean       6.551451  \n",
       "std        3.427537  \n",
       "min        1.000000  \n",
       "25%        4.000000  \n",
       "50%        6.000000  \n",
       "75%        9.000000  \n",
       "max       12.000000  "
      ]
     },
     "execution_count": 12,
     "metadata": {},
     "output_type": "execute_result"
    }
   ],
   "source": [
    "#viewing statistical details of the dataframe\n",
    "df_1.describe(include='all')"
   ]
  },
  {
   "cell_type": "markdown",
   "id": "4e6cf505",
   "metadata": {},
   "source": [
    "## Sanity Checks:"
   ]
  },
  {
   "cell_type": "markdown",
   "id": "97fb4dd3",
   "metadata": {},
   "source": [
    "Sanity checks are performed on the following columns:\n",
    "1) Stops: \\\n",
    "        Stops can't be a negative value. \\\n",
    "2) All_Flights: \\\n",
    "        If there is no flight between a route, then delete the record. \\\n",
    "3) Max_Seats: \\\n",
    "        Max_Seats can't be zero. \\\n",
    "4) Year: \\\n",
    "        Year can't be <2015 or >2021 \\\n",
    "5) Month_num: \\\n",
    "        Month_num can't be <1 or >12"
   ]
  },
  {
   "cell_type": "code",
   "execution_count": 13,
   "id": "48785922",
   "metadata": {},
   "outputs": [
    {
     "data": {
      "text/plain": [
       "0"
      ]
     },
     "execution_count": 13,
     "metadata": {},
     "output_type": "execute_result"
    }
   ],
   "source": [
    "#checking stops less than zero\n",
    "(df_1['Stops']<0).sum()"
   ]
  },
  {
   "cell_type": "code",
   "execution_count": 14,
   "id": "607de4b0",
   "metadata": {},
   "outputs": [
    {
     "data": {
      "text/html": [
       "<div>\n",
       "<style scoped>\n",
       "    .dataframe tbody tr th:only-of-type {\n",
       "        vertical-align: middle;\n",
       "    }\n",
       "\n",
       "    .dataframe tbody tr th {\n",
       "        vertical-align: top;\n",
       "    }\n",
       "\n",
       "    .dataframe thead th {\n",
       "        text-align: right;\n",
       "    }\n",
       "</style>\n",
       "<table border=\"1\" class=\"dataframe\">\n",
       "  <thead>\n",
       "    <tr style=\"text-align: right;\">\n",
       "      <th></th>\n",
       "      <th>index</th>\n",
       "      <th>Month</th>\n",
       "      <th>In_Out</th>\n",
       "      <th>Australian_City</th>\n",
       "      <th>International_City</th>\n",
       "      <th>Airline</th>\n",
       "      <th>Port_Country</th>\n",
       "      <th>Port_Region</th>\n",
       "      <th>Service_Country</th>\n",
       "      <th>Service_Region</th>\n",
       "      <th>Stops</th>\n",
       "      <th>All_Flights</th>\n",
       "      <th>Max_Seats</th>\n",
       "      <th>Year</th>\n",
       "      <th>Month_num</th>\n",
       "    </tr>\n",
       "  </thead>\n",
       "  <tbody>\n",
       "  </tbody>\n",
       "</table>\n",
       "</div>"
      ],
      "text/plain": [
       "Empty DataFrame\n",
       "Columns: [index, Month, In_Out, Australian_City, International_City, Airline, Port_Country, Port_Region, Service_Country, Service_Region, Stops, All_Flights, Max_Seats, Year, Month_num]\n",
       "Index: []"
      ]
     },
     "execution_count": 14,
     "metadata": {},
     "output_type": "execute_result"
    }
   ],
   "source": [
    "#checking if All_Flights is less than one\n",
    "df_1[df_1['All_Flights']<1]"
   ]
  },
  {
   "cell_type": "code",
   "execution_count": 15,
   "id": "e111e0c6",
   "metadata": {},
   "outputs": [
    {
     "data": {
      "text/html": [
       "<div>\n",
       "<style scoped>\n",
       "    .dataframe tbody tr th:only-of-type {\n",
       "        vertical-align: middle;\n",
       "    }\n",
       "\n",
       "    .dataframe tbody tr th {\n",
       "        vertical-align: top;\n",
       "    }\n",
       "\n",
       "    .dataframe thead th {\n",
       "        text-align: right;\n",
       "    }\n",
       "</style>\n",
       "<table border=\"1\" class=\"dataframe\">\n",
       "  <thead>\n",
       "    <tr style=\"text-align: right;\">\n",
       "      <th></th>\n",
       "      <th>index</th>\n",
       "      <th>Month</th>\n",
       "      <th>In_Out</th>\n",
       "      <th>Australian_City</th>\n",
       "      <th>International_City</th>\n",
       "      <th>Airline</th>\n",
       "      <th>Port_Country</th>\n",
       "      <th>Port_Region</th>\n",
       "      <th>Service_Country</th>\n",
       "      <th>Service_Region</th>\n",
       "      <th>Stops</th>\n",
       "      <th>All_Flights</th>\n",
       "      <th>Max_Seats</th>\n",
       "      <th>Year</th>\n",
       "      <th>Month_num</th>\n",
       "    </tr>\n",
       "  </thead>\n",
       "  <tbody>\n",
       "  </tbody>\n",
       "</table>\n",
       "</div>"
      ],
      "text/plain": [
       "Empty DataFrame\n",
       "Columns: [index, Month, In_Out, Australian_City, International_City, Airline, Port_Country, Port_Region, Service_Country, Service_Region, Stops, All_Flights, Max_Seats, Year, Month_num]\n",
       "Index: []"
      ]
     },
     "execution_count": 15,
     "metadata": {},
     "output_type": "execute_result"
    }
   ],
   "source": [
    "#checking Max_seats less than zero\n",
    "df_1[df_1['Max_Seats']==0]"
   ]
  },
  {
   "cell_type": "code",
   "execution_count": 16,
   "id": "f2a8b0a0",
   "metadata": {},
   "outputs": [
    {
     "data": {
      "text/html": [
       "<div>\n",
       "<style scoped>\n",
       "    .dataframe tbody tr th:only-of-type {\n",
       "        vertical-align: middle;\n",
       "    }\n",
       "\n",
       "    .dataframe tbody tr th {\n",
       "        vertical-align: top;\n",
       "    }\n",
       "\n",
       "    .dataframe thead th {\n",
       "        text-align: right;\n",
       "    }\n",
       "</style>\n",
       "<table border=\"1\" class=\"dataframe\">\n",
       "  <thead>\n",
       "    <tr style=\"text-align: right;\">\n",
       "      <th></th>\n",
       "      <th>index</th>\n",
       "      <th>Month</th>\n",
       "      <th>In_Out</th>\n",
       "      <th>Australian_City</th>\n",
       "      <th>International_City</th>\n",
       "      <th>Airline</th>\n",
       "      <th>Port_Country</th>\n",
       "      <th>Port_Region</th>\n",
       "      <th>Service_Country</th>\n",
       "      <th>Service_Region</th>\n",
       "      <th>Stops</th>\n",
       "      <th>All_Flights</th>\n",
       "      <th>Max_Seats</th>\n",
       "      <th>Year</th>\n",
       "      <th>Month_num</th>\n",
       "    </tr>\n",
       "  </thead>\n",
       "  <tbody>\n",
       "  </tbody>\n",
       "</table>\n",
       "</div>"
      ],
      "text/plain": [
       "Empty DataFrame\n",
       "Columns: [index, Month, In_Out, Australian_City, International_City, Airline, Port_Country, Port_Region, Service_Country, Service_Region, Stops, All_Flights, Max_Seats, Year, Month_num]\n",
       "Index: []"
      ]
     },
     "execution_count": 16,
     "metadata": {},
     "output_type": "execute_result"
    }
   ],
   "source": [
    "#checking if Years are in desired range\n",
    "df_1[(df_1['Year']> 2021) | (df_1['Year']<2021)]"
   ]
  },
  {
   "cell_type": "code",
   "execution_count": 17,
   "id": "8330f912",
   "metadata": {},
   "outputs": [
    {
     "data": {
      "text/html": [
       "<div>\n",
       "<style scoped>\n",
       "    .dataframe tbody tr th:only-of-type {\n",
       "        vertical-align: middle;\n",
       "    }\n",
       "\n",
       "    .dataframe tbody tr th {\n",
       "        vertical-align: top;\n",
       "    }\n",
       "\n",
       "    .dataframe thead th {\n",
       "        text-align: right;\n",
       "    }\n",
       "</style>\n",
       "<table border=\"1\" class=\"dataframe\">\n",
       "  <thead>\n",
       "    <tr style=\"text-align: right;\">\n",
       "      <th></th>\n",
       "      <th>index</th>\n",
       "      <th>Month</th>\n",
       "      <th>In_Out</th>\n",
       "      <th>Australian_City</th>\n",
       "      <th>International_City</th>\n",
       "      <th>Airline</th>\n",
       "      <th>Port_Country</th>\n",
       "      <th>Port_Region</th>\n",
       "      <th>Service_Country</th>\n",
       "      <th>Service_Region</th>\n",
       "      <th>Stops</th>\n",
       "      <th>All_Flights</th>\n",
       "      <th>Max_Seats</th>\n",
       "      <th>Year</th>\n",
       "      <th>Month_num</th>\n",
       "    </tr>\n",
       "  </thead>\n",
       "  <tbody>\n",
       "  </tbody>\n",
       "</table>\n",
       "</div>"
      ],
      "text/plain": [
       "Empty DataFrame\n",
       "Columns: [index, Month, In_Out, Australian_City, International_City, Airline, Port_Country, Port_Region, Service_Country, Service_Region, Stops, All_Flights, Max_Seats, Year, Month_num]\n",
       "Index: []"
      ]
     },
     "execution_count": 17,
     "metadata": {},
     "output_type": "execute_result"
    }
   ],
   "source": [
    "#checking for Month_num to be in range\n",
    "df_1[(df_1['Month_num']>12) | (df_1['Month_num']<1)]"
   ]
  },
  {
   "cell_type": "markdown",
   "id": "93110d4e",
   "metadata": {},
   "source": [
    "# Visualization:"
   ]
  },
  {
   "cell_type": "code",
   "execution_count": 18,
   "id": "b392ea02",
   "metadata": {},
   "outputs": [],
   "source": [
    "#importing required libraries\n",
    "import seaborn as sns\n",
    "from matplotlib import pyplot as plt"
   ]
  },
  {
   "cell_type": "code",
   "execution_count": 19,
   "id": "f70ce706",
   "metadata": {
    "scrolled": true
   },
   "outputs": [
    {
     "data": {
      "image/png": "[encoded data removed]",
      "text/plain": [
       "<Figure size 1440x720 with 2 Axes>"
      ]
     },
     "metadata": {
      "needs_background": "light"
     },
     "output_type": "display_data"
    }
   ],
   "source": [
    "plot = sns.displot(df_1, y=\"Port_Country\", x=\"Australian_City\", cbar = True, height=10, aspect =2).set(title=\"Port_Country vs Australian_City\")\n",
    "plot.ax.tick_params(labelrotation = 0)"
   ]
  },
  {
   "cell_type": "markdown",
   "id": "acca136a",
   "metadata": {},
   "source": [
    "Observation: There is a high traffic between Sydney-China, Sydney-New Zealand & Sydney-USA. \\\n",
    "Sydney can be on of the airports with high air traffic."
   ]
  },
  {
   "cell_type": "code",
   "execution_count": 20,
   "id": "05614b1a",
   "metadata": {},
   "outputs": [
    {
     "data": {
      "image/png": "[encoded data removed]",
      "text/plain": [
       "<Figure size 432x288 with 1 Axes>"
      ]
     },
     "metadata": {
      "needs_background": "light"
     },
     "output_type": "display_data"
    }
   ],
   "source": [
    "flights= df_1.groupby('Australian_City').agg(\n",
    "    sum_flights = ('All_Flights','sum')\n",
    ")\n",
    "temp = pd.DataFrame({\n",
    "    'Australian_City': flights.index,\n",
    "    'Flights' : flights.sum_flights.values\n",
    "})\n",
    "temp.plot(x='Australian_City',kind='bar')\n",
    "plt.xlabel(\"Australian City\")\n",
    "plt.ylabel(\"Flight Count\")\n",
    "plt.title(\"Flights vs Australian City\")\n",
    "plt.show()"
   ]
  },
  {
   "cell_type": "markdown",
   "id": "a3f4c692",
   "metadata": {},
   "source": [
    "Observation: Sydney has the most number of inbound/outbound flights in the year 2021 while Melbourne holds the second place with around 6000 flights"
   ]
  },
  {
   "cell_type": "code",
   "execution_count": 21,
   "id": "982083bf",
   "metadata": {},
   "outputs": [
    {
     "data": {
      "image/png": "[encoded data removed]",
      "text/plain": [
       "<Figure size 1152x432 with 1 Axes>"
      ]
     },
     "metadata": {
      "needs_background": "light"
     },
     "output_type": "display_data"
    }
   ],
   "source": [
    "plt.figure(figsize=[16,6])\n",
    "plt.scatter(data = df_1, y='Max_Seats', x='Australian_City')\n",
    "plt.xlabel('Australian City')\n",
    "plt.ylabel('Seats')\n",
    "plt.title('Seats vs Australian City')\n",
    "plt.show()"
   ]
  },
  {
   "cell_type": "markdown",
   "id": "62fea6f4",
   "metadata": {},
   "source": [
    "Observation: Most number of people are travelling abroad from Sydney, Perth and Melbourne"
   ]
  },
  {
   "cell_type": "code",
   "execution_count": 22,
   "id": "c849ba76",
   "metadata": {},
   "outputs": [
    {
     "data": {
      "image/png": "[encoded data removed]",
      "text/plain": [
       "<Figure size 432x288 with 1 Axes>"
      ]
     },
     "metadata": {
      "needs_background": "light"
     },
     "output_type": "display_data"
    }
   ],
   "source": [
    "flights= df_1.groupby('Month_num').agg(\n",
    "    sum_flights = ('All_Flights','sum')\n",
    ")\n",
    "temp = pd.DataFrame({\n",
    "    'Month': flights.index,\n",
    "    'Flights' : flights.sum_flights.values\n",
    "})\n",
    "temp.plot(x='Month', marker=\"*\")\n",
    "plt.xlabel(\"Months of 2021\")\n",
    "plt.ylabel(\"Flight Count\")\n",
    "plt.title(\"Months vs Australian City\")\n",
    "plt.show()"
   ]
  },
  {
   "cell_type": "markdown",
   "id": "bcaa19fe",
   "metadata": {},
   "source": [
    "Observation: May has the highest count of flights while March has the least number."
   ]
  },
  {
   "cell_type": "code",
   "execution_count": 23,
   "id": "5ea5d12c",
   "metadata": {},
   "outputs": [
    {
     "data": {
      "image/png": "[encoded data removed]",
      "text/plain": [
       "<Figure size 864x504 with 1 Axes>"
      ]
     },
     "metadata": {},
     "output_type": "display_data"
    }
   ],
   "source": [
    "sns.set(rc={\"figure.figsize\":(12, 7)})\n",
    "sns.set_style('ticks')\n",
    "plot = sns.boxplot(y = 'Month', x = 'Max_Seats', data = df_1 ).set(title= 'Month vs Seats')"
   ]
  },
  {
   "cell_type": "markdown",
   "id": "8d222c95",
   "metadata": {},
   "source": [
    "Observation: The mean of seats has increased in May, 2021 compared to the other months, and the least mean of seats in observed in the month of Septemeber, 2021."
   ]
  },
  {
   "cell_type": "code",
   "execution_count": 24,
   "id": "b445891e",
   "metadata": {},
   "outputs": [
    {
     "data": {
      "image/png": "[encoded data removed]",
      "text/plain": [
       "<Figure size 1440x720 with 1 Axes>"
      ]
     },
     "metadata": {},
     "output_type": "display_data"
    }
   ],
   "source": [
    "plot = sns.catplot(data= df_1, kind='count', x='Airline', height=10, aspect=2).set(title='Routes vs Airlines')\n",
    "plot.ax.tick_params(labelrotation=90)"
   ]
  },
  {
   "cell_type": "markdown",
   "id": "bfc6d25a",
   "metadata": {},
   "source": [
    "Observation: Air NewZealand is operating the more number of routes followed by Qantas Airways."
   ]
  },
  {
   "cell_type": "markdown",
   "id": "e7305898",
   "metadata": {},
   "source": [
    "Takeaways from the project: \\\n",
    "Cleaning the data \\\n",
    "Performing various sanity checks \\\n",
    "Creating new DFs \\\n",
    "Understanding the right type of plots"
   ]
  },
  {
   "cell_type": "code",
   "execution_count": null,
   "id": "47ba580d",
   "metadata": {},
   "outputs": [],
   "source": []
  }
 ],
 "metadata": {
  "kernelspec": {
   "display_name": "Python 3 (ipykernel)",
   "language": "python",
   "name": "python3"
  },
  "language_info": {
   "codemirror_mode": {
    "name": "ipython",
    "version": 3
   },
   "file_extension": ".py",
   "mimetype": "text/x-python",
   "name": "python",
   "nbconvert_exporter": "python",
   "pygments_lexer": "ipython3",
   "version": "3.9.7"
  }
 },
 "nbformat": 4,
 "nbformat_minor": 5
}
